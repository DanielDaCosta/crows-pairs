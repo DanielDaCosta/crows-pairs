{
 "cells": [
  {
   "cell_type": "code",
   "execution_count": null,
   "metadata": {},
   "outputs": [],
   "source": [
    "import os\n",
    "import matplotlib.pyplot as plt\n",
    "import random\n",
    "\n",
    "base_dir = 'itout'"
   ]
  },
  {
   "cell_type": "code",
   "execution_count": null,
   "metadata": {},
   "outputs": [],
   "source": [
    "sets = {}\n",
    "n = 0\n",
    "for o in os.listdir(base_dir):\n",
    "    i = 0\n",
    "    ct_one = 0\n",
    "    ct_two = 0\n",
    "    ct_neither = 0\n",
    "    percents = []\n",
    "    for line in open(base_dir+'/'+o, 'r'):\n",
    "        if i == 0:\n",
    "            dataset = '_'.join(o.split('_')[1:]).replace('.txt','')\n",
    "            # dataset = line.strip().split()[-1].split('/')[-2]\n",
    "            one = line.strip().split()[-1].split('/')[-1].split('.')[0]\n",
    "        elif i == 1:\n",
    "            two = line.strip().split()[-1].split('/')[-1].split('.')[0]\n",
    "        elif i == 2:\n",
    "            model = line.strip().split()[-1]\n",
    "            title = model + ' ' + dataset + ' percent ' + one + ' versus ' + two\n",
    "            sets[model] = sets.get(model, {})\n",
    "            sets[model][title] = sets[model].get(title, [])\n",
    "            n += 1\n",
    "        elif 'pair' in line:\n",
    "            ct_one, ct_two, ct_neither = 0,0,0\n",
    "        elif len(line.strip()) > 0:\n",
    "            if 'sent1' in line:\n",
    "                ct_one += 1\n",
    "            elif 'sent2' in line:\n",
    "                ct_two += 1\n",
    "            else:\n",
    "                ct_neither += 1\n",
    "            p = ct_one / (ct_one + ct_two + ct_neither)\n",
    "            percents = percents + [p]\n",
    "        else:\n",
    "            sets[model][title].append(percents)\n",
    "            percents = []\n",
    "        i += 1"
   ]
  },
  {
   "cell_type": "code",
   "execution_count": null,
   "metadata": {},
   "outputs": [],
   "source": [
    "fig, axs = plt.subplots(n)\n",
    "fig.set_figheight(n*10)\n",
    "fig.set_figwidth(30)\n",
    "i = 0\n",
    "for model in sets:\n",
    "    for title in sets[model]:\n",
    "        axs[i].set_title(title)\n",
    "        axs[i].set_xlabel('iteration')\n",
    "        axs[i].set_ylabel('percent')\n",
    "        percents = sets[model][title]\n",
    "        for sentence_pair in random.sample(percents, k=50):\n",
    "            axs[i].plot(range(len(sentence_pair)), sentence_pair, marker='', linewidth=0.5)\n",
    "        i += 1\n",
    "            "
   ]
  },
  {
   "cell_type": "code",
   "execution_count": null,
   "metadata": {},
   "outputs": [],
   "source": []
  }
 ],
 "metadata": {
  "kernelspec": {
   "display_name": "Python 3",
   "language": "python",
   "name": "python3"
  },
  "language_info": {
   "codemirror_mode": {
    "name": "ipython",
    "version": 3
   },
   "file_extension": ".py",
   "mimetype": "text/x-python",
   "name": "python",
   "nbconvert_exporter": "python",
   "pygments_lexer": "ipython3",
   "version": "3.7.4"
  }
 },
 "nbformat": 4,
 "nbformat_minor": 2
}
